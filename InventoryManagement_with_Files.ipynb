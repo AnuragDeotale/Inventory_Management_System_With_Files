{
  "nbformat": 4,
  "nbformat_minor": 0,
  "metadata": {
    "colab": {
      "provenance": [],
      "authorship_tag": "ABX9TyMwYZ9jxtu87UYdOXLy0WjI",
      "include_colab_link": true
    },
    "kernelspec": {
      "name": "python3",
      "display_name": "Python 3"
    },
    "language_info": {
      "name": "python"
    }
  },
  "cells": [
    {
      "cell_type": "markdown",
      "metadata": {
        "id": "view-in-github",
        "colab_type": "text"
      },
      "source": [
        "<a href=\"https://colab.research.google.com/github/AnuragDeotale/Inventory_Management_System_With_Files/blob/main/InventoryManagement_with_Files.ipynb\" target=\"_parent\"><img src=\"https://colab.research.google.com/assets/colab-badge.svg\" alt=\"Open In Colab\"/></a>"
      ]
    },
    {
      "cell_type": "code",
      "execution_count": null,
      "metadata": {
        "id": "p78jUOILOVE7"
      },
      "outputs": [],
      "source": [
        "fd=open(\"Inventory.txt\",'w')\n",
        "fd.close()"
      ]
    },
    {
      "cell_type": "markdown",
      "source": [
        "Product Details\n",
        "\n",
        "1.   Product ID\n",
        "2.   Name Of Product\n",
        "\n",
        "3.   Price Of Product\n",
        "4.   Quantity\n",
        "\n",
        "\n",
        "\n"
      ],
      "metadata": {
        "id": "nL2CPDVROhIk"
      }
    },
    {
      "cell_type": "code",
      "source": [
        "fd=open('Inventory.txt','r')\n",
        "products=fd.read().split('\\n')\n",
        "fd.close()"
      ],
      "metadata": {
        "id": "3Uog6uoEOwJa"
      },
      "execution_count": null,
      "outputs": []
    },
    {
      "cell_type": "code",
      "source": [
        "products"
      ],
      "metadata": {
        "colab": {
          "base_uri": "https://localhost:8080/"
        },
        "id": "cIclMLV5Pdzt",
        "outputId": "be814d42-1455-49f0-9394-1ece487bc862"
      },
      "execution_count": null,
      "outputs": [
        {
          "output_type": "execute_result",
          "data": {
            "text/plain": [
              "['1,5 Star,5,100', '2,Milky Bar,5,100', '3,Cake,300,5', '4,Candy,1,200']"
            ]
          },
          "metadata": {},
          "execution_count": 18
        }
      ]
    },
    {
      "cell_type": "code",
      "source": [
        "for product in products:\n",
        "    print(product)"
      ],
      "metadata": {
        "colab": {
          "base_uri": "https://localhost:8080/"
        },
        "id": "Y8LGY5yuPegn",
        "outputId": "7e04a665-4f4e-460c-9f44-42d3792bfc58"
      },
      "execution_count": null,
      "outputs": [
        {
          "output_type": "stream",
          "name": "stdout",
          "text": [
            "1,5 Star,5,100\n",
            "2,Milky Bar,5,100\n",
            "3,Cake,300,5\n",
            "4,Candy,1,200\n"
          ]
        }
      ]
    },
    {
      "cell_type": "code",
      "source": [
        "for product in products:\n",
        "    print(product.split(','))"
      ],
      "metadata": {
        "colab": {
          "base_uri": "https://localhost:8080/"
        },
        "id": "_OhmeBhpPj8T",
        "outputId": "128f7d86-0243-4289-edf7-df4d83f4b2c4"
      },
      "execution_count": null,
      "outputs": [
        {
          "output_type": "stream",
          "name": "stdout",
          "text": [
            "['1', '5 Star', '5', '100']\n",
            "['2', 'Milky Bar', '5', '100']\n",
            "['3', 'Cake', '300', '5']\n",
            "['4', 'Candy', '1', '200']\n"
          ]
        }
      ]
    },
    {
      "cell_type": "code",
      "source": [
        "for product in products:\n",
        "    print(product)\n",
        "    print(product.split(','))"
      ],
      "metadata": {
        "colab": {
          "base_uri": "https://localhost:8080/"
        },
        "id": "jjoZ8ynxPtYa",
        "outputId": "2465ab14-5bc1-44cb-acaa-ab52640dd3a7"
      },
      "execution_count": null,
      "outputs": [
        {
          "output_type": "stream",
          "name": "stdout",
          "text": [
            "1,5 Star,5,100\n",
            "['1', '5 Star', '5', '100']\n",
            "2,Milky Bar,5,100\n",
            "['2', 'Milky Bar', '5', '100']\n",
            "3,Cake,300,5\n",
            "['3', 'Cake', '300', '5']\n",
            "4,Candy,1,200\n",
            "['4', 'Candy', '1', '200']\n"
          ]
        }
      ]
    },
    {
      "cell_type": "code",
      "source": [
        "for product in products:\n",
        "    print(product.split(',')[0])"
      ],
      "metadata": {
        "colab": {
          "base_uri": "https://localhost:8080/"
        },
        "id": "Mw3XlGMxP1Tc",
        "outputId": "126d70c4-9d99-4f31-a6af-6e130a10d6cd"
      },
      "execution_count": null,
      "outputs": [
        {
          "output_type": "stream",
          "name": "stdout",
          "text": [
            "1\n",
            "2\n",
            "3\n",
            "4\n"
          ]
        }
      ]
    },
    {
      "cell_type": "code",
      "source": [
        "for i in products:\n",
        "    print(i)"
      ],
      "metadata": {
        "colab": {
          "base_uri": "https://localhost:8080/"
        },
        "id": "0kLCD1NrP24b",
        "outputId": "9ae94a74-0a0a-4dbf-c8ee-a134145c05a9"
      },
      "execution_count": null,
      "outputs": [
        {
          "output_type": "stream",
          "name": "stdout",
          "text": [
            "1,5 Star,5,100\n",
            "2,Milky Bar,5,100\n",
            "3,Cake,300,5\n",
            "4,Candy,1,200\n"
          ]
        }
      ]
    },
    {
      "cell_type": "code",
      "source": [
        "ui_prod_id=input(\"Enter Product Id :\")\n",
        "for product in products:\n",
        "    if(product.split(',')[0]==ui_prod_id):\n",
        "        print(product)"
      ],
      "metadata": {
        "colab": {
          "base_uri": "https://localhost:8080/"
        },
        "id": "t0YYHCUlP3Uc",
        "outputId": "2b61d639-20bc-4f36-c009-be42775e8d8a"
      },
      "execution_count": null,
      "outputs": [
        {
          "output_type": "stream",
          "name": "stdout",
          "text": [
            "Enter Product Id :1\n",
            "1,5 Star,5,100\n"
          ]
        }
      ]
    },
    {
      "cell_type": "code",
      "source": [
        "#Noting the time of transaction\n",
        "import time\n",
        "\n",
        "#Reading the Inventory\n",
        "fd=open('Inventory.txt','r')\n",
        "products=fd.read().split('\\n')\n",
        "fd.close()\n",
        "\n",
        "#Taking  User Input\n",
        "ui_username   =input(\"Enter Your Name :\")\n",
        "ui_phone     =input(\"Enter Your Phone No :\")\n",
        "ui_mail      =input(\"Enter Your Email Id :\")\n",
        "ui_prod_id   =input(\"Enter Product Id :\")\n",
        "ui_prod_qn   =input(\"Enter Product Quantity :\")\n",
        "\n",
        "updated_product_lst=[]\n",
        "\n",
        "#Going through each product detail\n",
        "for product in products:\n",
        "\n",
        "    prod_details=product.split(',')\n",
        "\n",
        "    if(prod_details[0]==ui_prod_id):\n",
        "    #Checking if product exist or not\n",
        "\n",
        "      if (int(ui_prod_qn)<=int(prod_details[3])):\n",
        "          #Checking if we are enough quantity or not\n",
        "\n",
        "        print('--------------------------------------')\n",
        "        print(\"Product Name        :\",prod_details[1])\n",
        "        print(\"Price               :\",prod_details[2])\n",
        "        print(\"Quantity            :\",ui_prod_qn)\n",
        "        print('--------------------------------------')\n",
        "        print(\"Billing Amount      :\",int(ui_prod_qn)*int(prod_details[2]))\n",
        "        print('--------------------------------------')\n",
        "\n",
        "        #Updating Inventory List\n",
        "        prod_details[3]=str(int(prod_details[3])-int(ui_prod_qn))\n",
        "\n",
        "        #Generating Sales in Sales.txt\n",
        "        fd=open('Sales.txt','a')\n",
        "        sales_detail=ui_username+','+ui_phone+','+ui_mail+','+prod_details[1]+','+ui_prod_id+','+ui_prod_qn+','+str(int(ui_prod_qn)*int(prod_details[2]))+','+time.ctime()+'\\n'\n",
        "        fd.write(sales_detail)\n",
        "        fd.close()\n",
        "      else:\n",
        "      # If we're not having enough quantity\n",
        "        print(\"Sorry! , We're not having enough quantity. \")\n",
        "        print(\"We're having only \", prod_details[3],\"quantity.\")\n",
        "        print(\"Would you like to purchase it ? \")\n",
        "        ch=input(\"Press Y/N \")\n",
        "        if(ch=='Y' or ch=='y'):\n",
        "        #If you want to purchase with remaining quantity\n",
        "            print('--------------------------------------')\n",
        "            print(\"Product Name        :\",prod_details[1])\n",
        "            print(\"Price               :\",prod_details[2])\n",
        "            print(\"Quantity            :\",prod_details[3])\n",
        "            print('--------------------------------------')\n",
        "            print(\"Billing Amount      :\",int(prod_details[3])*int(prod_details[2]))\n",
        "            print('--------------------------------------')\n",
        "\n",
        "            #updating Inventory List\n",
        "            prod_details[3]='0'\n",
        "\n",
        "            #Generating Sales in Sales.txt\n",
        "            fd=open('Sales.txt','a')\n",
        "            sales_detail=ui_username+','+ui_phone+','+ui_mail+','+prod_details[1]+','+ui_prod_id+','+prod_details[3]+','+str(int(prod_details[3])*int(prod_details[2]))+','+time.ctime()+'\\n'\n",
        "            fd.write(sales_detail)\n",
        "            fd.close()\n",
        "\n",
        "            #Updating Inventory List\n",
        "            prod_details[3]='0'\n",
        "        else:\n",
        "          print(\"Thanks !\")\n",
        "    #Updating my Inventory List\n",
        "    updated_product_lst.append(prod_details)\n",
        "lst=[]\n",
        "\n",
        "#Updating my Inventory String\n",
        "for i in updated_product_lst:\n",
        "    prod=i[0]+','+i[1]+','+i[2]+','+i[3]+'\\n'\n",
        "    lst.append(prod)\n",
        "\n",
        "#Removing last \\n from the list\n",
        "lst[-1]=lst[-1][:-1]\n",
        "\n",
        "#Updating Inventory File\n",
        "fd=open('Inventory.txt','w')\n",
        "for i in lst:\n",
        "    fd.write(i)\n",
        "\n",
        "fd.close()\n",
        "\n",
        "print(\"--------------------------------------\")\n",
        "print(\"Inventory Updated Successfully !\")\n",
        "print(\"--------------------------------------\")\n",
        "\n"
      ],
      "metadata": {
        "colab": {
          "base_uri": "https://localhost:8080/"
        },
        "id": "_SQhPUM1P8LH",
        "outputId": "60aa836c-4d5a-42c0-ec6e-0de36f179618"
      },
      "execution_count": null,
      "outputs": [
        {
          "output_type": "stream",
          "name": "stdout",
          "text": [
            "Enter Your Name :Anurag\n",
            "Enter Your Phone No :34656372\n",
            "Enter Your Email Id :aad@gmail.com\n",
            "Enter Product Id :2\n",
            "Enter Product Quantity :2000\n",
            "Sorry! , We're not having enough quantity. \n",
            "We're having only  95 quantity.\n",
            "Would you like to purchase it ? \n",
            "Press Y/N y\n",
            "--------------------------------------\n",
            "Product Name        : Milky Bar\n",
            "Price               : 5\n",
            "Quantity            : 95\n",
            "--------------------------------------\n",
            "Billing Amount      : 475\n",
            "--------------------------------------\n",
            "--------------------------------------\n",
            "Inventory Updated Successfully !\n",
            "--------------------------------------\n"
          ]
        }
      ]
    }
  ]
}